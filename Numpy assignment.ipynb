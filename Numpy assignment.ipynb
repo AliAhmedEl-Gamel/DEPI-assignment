{
  "cells": [
    {
      "cell_type": "code",
      "execution_count": 140,
      "metadata": {
        "id": "hvzCzrK__Usb"
      },
      "outputs": [],
      "source": [
        "import numpy as np"
      ]
    },
    {
      "cell_type": "markdown",
      "metadata": {
        "id": "DIl4swbP_Iux"
      },
      "source": [
        "# NumPy Practice Notebook\n",
        "\n",
        "This notebook contains a series of practice problems to help you understand and apply core concepts in NumPy.\n",
        "\n",
        "---\n",
        "\n",
        "## 🧩 1. Array Creation\n",
        "**Question:** Create the following arrays using NumPy:\n",
        "1. A 1D array with numbers from 0 to 9\n",
        "2. A 2D array of shape (3, 3) filled with zeros\n",
        "3. A 2D array of shape (2, 4) filled with ones\n",
        "4. A 3x3 identity matrix\n",
        "\n",
        "\n",
        "---\n"
      ]
    },
    {
      "cell_type": "code",
      "execution_count": 141,
      "metadata": {
        "id": "Z2WD9-cU_6y8"
      },
      "outputs": [],
      "source": [
        "arr1=np.array(range(0,10))\n",
        "arr2=np.zeros(9).reshape(3,3)\n",
        "arr3=np.ones(8).reshape(2,4)\n",
        "arr4=np.identity(3)"
      ]
    },
    {
      "cell_type": "markdown",
      "metadata": {
        "id": "UAFotM1N_h8t"
      },
      "source": [
        "\n",
        "## 🧪 2. Array Inspection\n",
        "**Question:** Given a NumPy array `arr`, print:\n",
        "1. Its shape\n",
        "2. Its data type\n",
        "3. The number of dimensions\n",
        "4. The total number of elements\n",
        "\n",
        "```python\n",
        "arr = np.array([[1, 2, 3], [4, 5, 6]])\n",
        "\n",
        "```\n",
        "\n",
        "---\n"
      ]
    },
    {
      "cell_type": "code",
      "execution_count": 142,
      "metadata": {
        "colab": {
          "base_uri": "https://localhost:8080/"
        },
        "id": "LREAN2tABHFq",
        "outputId": "0cc55dee-2da1-4590-b528-a2d552451744"
      },
      "outputs": [
        {
          "name": "stdout",
          "output_type": "stream",
          "text": [
            "(2, 3)\n",
            "int32\n",
            "2\n",
            "6\n"
          ]
        }
      ],
      "source": [
        "arr = np.array([[1, 2, 3],\n",
        "                [4, 5, 6]])\n",
        "print(arr.shape)\n",
        "print(arr.dtype)\n",
        "print(arr.ndim)\n",
        "print(arr.size)"
      ]
    },
    {
      "cell_type": "markdown",
      "metadata": {
        "id": "ssUHqVJR_lyu"
      },
      "source": [
        "\n",
        "## 🔍 3. Indexing and Slicing\n",
        "**Question:** Using the array below, do the following:\n",
        "1. Slice the first two rows\n",
        "2. Get the last column\n",
        "3. Extract the element in the second row and third column\n",
        "4. Reverse the rows\n",
        "\n",
        "```python\n",
        "arr = np.array([[10, 20, 30], [40, 50, 60], [70, 80, 90]])\n",
        "\n",
        "```\n"
      ]
    },
    {
      "cell_type": "code",
      "execution_count": 143,
      "metadata": {
        "colab": {
          "base_uri": "https://localhost:8080/"
        },
        "id": "Uf5fh9rzCp7K",
        "outputId": "f34bbc02-a26f-4209-d9c0-f00b6483c782"
      },
      "outputs": [
        {
          "name": "stdout",
          "output_type": "stream",
          "text": [
            "[[10 20 30]\n",
            " [40 50 60]] \n",
            "\n",
            "[70 80 90] \n",
            "\n",
            "60 \n",
            "\n",
            "[[70 80 90]\n",
            " [40 50 60]\n",
            " [10 20 30]]\n"
          ]
        }
      ],
      "source": [
        "arr = np.array([[10, 20, 30],\n",
        "                [40, 50, 60],\n",
        "                [70, 80, 90]])\n",
        "print(arr[:2],\"\\n\")\n",
        "print(arr[-1],\"\\n\")\n",
        "print(arr[1,2],\"\\n\")\n",
        "print(arr[::-1])"
      ]
    },
    {
      "cell_type": "markdown",
      "metadata": {
        "id": "DwYyM0b1_nA5"
      },
      "source": [
        "\n",
        "---\n",
        "\n",
        "## 🔁 4. More Slicing Practice\n",
        "**Question:**\n",
        "Given the array below, extract:\n",
        "1. All even numbers\n",
        "2. The second and third rows\n",
        "3. The last two columns\n",
        "4. A subarray containing the middle 2x2 block\n",
        "\n",
        "```python\n",
        "arr = np.array([[1, 2, 3, 4],\n",
        "                [5, 6, 7, 8],\n",
        "                [9, 10, 11, 12],\n",
        "                [13, 14, 15, 16]])\n",
        "\n",
        "```\n"
      ]
    },
    {
      "cell_type": "code",
      "execution_count": 144,
      "metadata": {
        "colab": {
          "base_uri": "https://localhost:8080/"
        },
        "id": "jfsMCuIiDanD",
        "outputId": "0c5e0820-5d4c-476b-8f48-948010fa84bc"
      },
      "outputs": [
        {
          "name": "stdout",
          "output_type": "stream",
          "text": [
            "[ 2  4  6  8 10 12 14 16] \n",
            "\n",
            "[[ 6  7]\n",
            " [10 11]] \n",
            "\n",
            "[[ 3  4]\n",
            " [ 7  8]\n",
            " [11 12]\n",
            " [15 16]] \n",
            "\n",
            "[[ 6  7]\n",
            " [10 11]]\n"
          ]
        }
      ],
      "source": [
        "arr = np.array([[1, 2, 3, 4],\n",
        "                [5, 6, 7, 8],\n",
        "                [9, 10, 11, 12],\n",
        "                [13, 14, 15, 16]])\n",
        "print(arr[arr%2==0],\"\\n\")\n",
        "print(arr[1:3,1:3],\"\\n\")\n",
        "print(arr[:,2:],\"\\n\")\n",
        "print(arr[1:3,1:3])"
      ]
    },
    {
      "cell_type": "markdown",
      "metadata": {
        "id": "TYIR2o4w_qHm"
      },
      "source": [
        "\n",
        "---\n",
        "\n",
        "## ➕ 5. Arithmetic Operations\n",
        "**Question:** Perform the following using NumPy arrays:\n",
        "1. Add two arrays element-wise\n",
        "2. Multiply two arrays element-wise\n",
        "3. Raise all elements of an array to the power of 2\n",
        "\n",
        "```python\n",
        "arr1 = np.array([1, 2, 3])\n",
        "arr2 = np.array([4, 5, 6])\n",
        "\n",
        "```\n",
        "\n",
        "---\n"
      ]
    },
    {
      "cell_type": "code",
      "execution_count": 145,
      "metadata": {
        "colab": {
          "base_uri": "https://localhost:8080/"
        },
        "id": "3pOaUm-y_--J",
        "outputId": "30075724-edd5-4367-8132-bf3bee711c7b"
      },
      "outputs": [
        {
          "name": "stdout",
          "output_type": "stream",
          "text": [
            "[5 7 9] \n",
            "\n",
            "[ 4 10 18] \n",
            "\n",
            "[1 4 9]\n"
          ]
        }
      ],
      "source": [
        "arr1 = np.array([1, 2, 3])\n",
        "arr2 = np.array([4, 5, 6])\n",
        "print(arr1+arr2,\"\\n\")\n",
        "print(arr1*arr2,\"\\n\")\n",
        "print(arr1**2)"
      ]
    },
    {
      "cell_type": "markdown",
      "metadata": {
        "id": "mfYIu2L9_rl6"
      },
      "source": [
        "\n",
        "## 📏 6. Broadcasting\n",
        "**Question:** Use broadcasting to:\n",
        "1. Add a 1D array to each row of a 2D array\n",
        "2. Multiply each row of a 2D array by a 1D array\n",
        "3. Subtract a scalar from each element in an array\n",
        "4. Add a column vector to each column of a matrix\n",
        "\n",
        "```python\n",
        "A = np.array([[1, 2, 3],\n",
        "              [4, 5, 6]])\n",
        "\n",
        "B = np.array([10, 20, 30])\n",
        "C = np.array([[1], [2]])\n",
        "\n",
        "```\n"
      ]
    },
    {
      "cell_type": "code",
      "execution_count": 146,
      "metadata": {
        "colab": {
          "base_uri": "https://localhost:8080/"
        },
        "id": "HLueW9R2__sQ",
        "outputId": "c1af440a-328d-4bd9-b894-94dc672da26c"
      },
      "outputs": [
        {
          "name": "stdout",
          "output_type": "stream",
          "text": [
            "[[11 22 33]\n",
            " [14 25 36]] \n",
            "\n",
            "[[ 10  40  90]\n",
            " [ 40 100 180]] \n",
            "\n",
            "[[0 1 2]\n",
            " [3 4 5]] \n",
            "\n",
            "[[2 3 4]\n",
            " [6 7 8]]\n"
          ]
        }
      ],
      "source": [
        "import numpy as np\n",
        "A = np.array([[1, 2, 3],\n",
        "              [4, 5, 6]])\n",
        "B = np.array([10, 20, 30])\n",
        "C = np.array([[1],\n",
        "              [2]])\n",
        "print(A+B,\"\\n\")\n",
        "print(A*B,\"\\n\")\n",
        "print(A-1,\"\\n\")\n",
        "print(A+C)\n"
      ]
    },
    {
      "cell_type": "markdown",
      "metadata": {
        "id": "GwaQHqqM_szI"
      },
      "source": [
        "\n",
        "---\n",
        "\n",
        "## 🔁 7. More Broadcasting Practice\n",
        "**Question:** Try these:\n",
        "1. Add a 1D array of shape (4,) to a 2D array of shape (3,4)\n",
        "2. Multiply a (3,1) column array to a (1,4) row array and observe the shape\n",
        "3. Add a scalar to the entire array\n",
        "\n",
        "```python\n",
        "A = np.arange(12).reshape(3, 4)\n",
        "B = np.array([100, 200, 300, 400])\n",
        "C = np.array([[2], [3], [4]])\n",
        "\n",
        "```\n"
      ]
    },
    {
      "cell_type": "code",
      "execution_count": 147,
      "metadata": {
        "id": "92PwMwBtAAwq"
      },
      "outputs": [
        {
          "name": "stdout",
          "output_type": "stream",
          "text": [
            "[[100 201 302 403]\n",
            " [104 205 306 407]\n",
            " [108 209 310 411]] \n",
            "\n",
            "[[ 200  400  600  800]\n",
            " [ 300  600  900 1200]\n",
            " [ 400  800 1200 1600]] \n",
            "\n",
            "[[ 210  410  610  810]\n",
            " [ 310  610  910 1210]\n",
            " [ 410  810 1210 1610]] \n",
            "\n"
          ]
        }
      ],
      "source": [
        "A = np.arange(12).reshape(3, 4)\n",
        "B = np.array([100, 200, 300, 400])\n",
        "C = np.array([[2], [3], [4]])\n",
        "\n",
        "print(A+B,\"\\n\")\n",
        "print(B*C,\"\\n\")\n",
        "print((B*C)+10,\"\\n\")\n",
        "\n"
      ]
    },
    {
      "cell_type": "markdown",
      "metadata": {
        "id": "s0-ElcHm_uLL"
      },
      "source": [
        "\n",
        "---\n",
        "\n",
        "## 🔃 8. Reshaping and Flattening\n",
        "**Question:**\n",
        "1. Reshape a 1D array of 12 elements into a 3x4 matrix\n",
        "2. Flatten a 2D array into a 1D array\n",
        "\n",
        "```python\n",
        "arr = np.arange(12)\n",
        "\n",
        "```\n"
      ]
    },
    {
      "cell_type": "code",
      "execution_count": 148,
      "metadata": {
        "id": "6cuXtuHNABj7"
      },
      "outputs": [
        {
          "name": "stdout",
          "output_type": "stream",
          "text": [
            "[ 0  1  2  3  4  5  6  7  8  9 10 11] \n",
            "\n",
            "[[ 0  1  2  3]\n",
            " [ 4  5  6  7]\n",
            " [ 8  9 10 11]] \n",
            "\n",
            "[ 0  1  2  3  4  5  6  7  8  9 10 11] \n",
            "\n"
          ]
        }
      ],
      "source": [
        "arr = np.array(range(0,12))\n",
        "print(arr,\"\\n\")\n",
        "arr=arr.reshape(3,4)\n",
        "print(arr,\"\\n\")\n",
        "arr = arr.reshape(12,)\n",
        "print(arr,\"\\n\")"
      ]
    },
    {
      "cell_type": "markdown",
      "metadata": {
        "id": "wE_NIjfD_wYt"
      },
      "source": [
        "\n",
        "---\n",
        "\n",
        "## 🔗 9. Stacking and Splitting\n",
        "**Question:** Stack and split arrays:\n",
        "1. Stack two (2, 2) arrays vertically and horizontally\n",
        "2. reshape a (4, 4) array into array of shape (2, 8)\n",
        "\n",
        "\n",
        "---\n"
      ]
    },
    {
      "cell_type": "code",
      "execution_count": 149,
      "metadata": {},
      "outputs": [
        {
          "name": "stdout",
          "output_type": "stream",
          "text": [
            "[[1. 1.]\n",
            " [1. 1.]\n",
            " [0. 0.]\n",
            " [0. 0.]] \n",
            "\n",
            "[[1. 1. 0. 0.]\n",
            " [1. 1. 0. 0.]] \n",
            "\n"
          ]
        }
      ],
      "source": [
        "a = np.ones(4).reshape(2,2)\n",
        "b = np.zeros(4).reshape(2,2)\n",
        "vertical = np.vstack((a,b))\n",
        "print(vertical,\"\\n\")\n",
        "horizontal = np.hstack((a,b))\n",
        "print(horizontal,\"\\n\")"
      ]
    },
    {
      "cell_type": "markdown",
      "metadata": {
        "id": "xEMoDhIO_xz1"
      },
      "source": [
        "\n",
        "## 🧠 10. Boolean Masking\n",
        "**Question:**\n",
        "Given an array:\n",
        "1. Select all elements > 10\n",
        "2. Replace all even numbers with -1\n",
        "\n",
        "```python\n",
        "arr = np.array([[5, 10, 15], [20, 25, 30]])\n",
        "\n",
        "```\n"
      ]
    },
    {
      "cell_type": "code",
      "execution_count": 150,
      "metadata": {
        "id": "jejS1-qiADMy"
      },
      "outputs": [
        {
          "name": "stdout",
          "output_type": "stream",
          "text": [
            "[15 20 25 30] \n",
            "\n",
            "[[ 5 -1 15]\n",
            " [-1 25 -1]]\n"
          ]
        }
      ],
      "source": [
        "arr = np.array([[5, 10, 15],\n",
        "                [20, 25, 30]])\n",
        "print(arr[arr > 10],\"\\n\")\n",
        "arr[arr%2==0] = -1\n",
        "print(arr)"
      ]
    },
    {
      "cell_type": "markdown",
      "metadata": {
        "id": "9AY2Y8HR_zSR"
      },
      "source": [
        "\n",
        "---\n",
        "\n",
        "## 🧮 11. Aggregation\n",
        "**Question:** Calculate:\n",
        "1. Sum of all elements\n",
        "2. Mean of each column\n",
        "3. Max value in each row\n",
        "4. Standard deviation of the array\n",
        "\n",
        "```python\n",
        "arr = np.array([[1, 2, 3], [4, 5, 6]])\n",
        "\n",
        "```\n"
      ]
    },
    {
      "cell_type": "code",
      "execution_count": 151,
      "metadata": {
        "id": "xlaIab8NAESs"
      },
      "outputs": [
        {
          "name": "stdout",
          "output_type": "stream",
          "text": [
            "21 \n",
            "\n",
            "[2.5 3.5 4.5] \n",
            "\n",
            "[[3]\n",
            " [6]] \n",
            "\n",
            "1.707825127659933 \n",
            "\n"
          ]
        }
      ],
      "source": [
        "arr = np.array([[1, 2, 3],\n",
        "                [4, 5, 6]])\n",
        "print(arr.sum(),\"\\n\")\n",
        "print(arr.mean(axis=0),\"\\n\")\n",
        "print(arr.max(1).reshape(2,1),\"\\n\")\n",
        "print(arr.std(),\"\\n\")"
      ]
    },
    {
      "cell_type": "markdown",
      "metadata": {
        "id": "N4mqr1Gr_0Kt"
      },
      "source": [
        "\n",
        "---\n",
        "\n",
        "## 🧲 12. Dot Product and Matrix Multiplication\n",
        "**Question:**\n",
        "1. Multiply two matrices using `np.dot`\n",
        "\n",
        "```python\n",
        "A = np.array([[1, 2],\n",
        "              [3, 4]])\n",
        "B = np.array([[5, 6],\n",
        "              [7, 8]])\n",
        "\n",
        "```\n"
      ]
    },
    {
      "cell_type": "code",
      "execution_count": 152,
      "metadata": {
        "id": "gbWAzqoYAFR0"
      },
      "outputs": [
        {
          "name": "stdout",
          "output_type": "stream",
          "text": [
            "[[19 22]\n",
            " [43 50]] \n",
            "\n",
            "[-4 -4]\n"
          ]
        }
      ],
      "source": [
        "A = np.array([[1, 2],\n",
        "              [3, 4]])\n",
        "B = np.array([[5, 6],\n",
        "              [7, 8]])\n",
        "\n",
        "print(np.dot(A,B),'\\n')\n",
        "print(np.cross(A,B))"
      ]
    },
    {
      "cell_type": "markdown",
      "metadata": {
        "id": "W1UDOAdi_1ar"
      },
      "source": [
        "\n",
        "---\n",
        "\n",
        "## 🔢 13. Random Numbers\n",
        "**Question:**\n",
        "1. Generate a 2x3 array of random numbers between 0 and 1\n",
        "2. Generate 10 random integers between 50 and 100\n",
        "\n"
      ]
    },
    {
      "cell_type": "code",
      "execution_count": 153,
      "metadata": {
        "id": "jOVTvy_hAGcv"
      },
      "outputs": [
        {
          "name": "stdout",
          "output_type": "stream",
          "text": [
            "[[0.53409736 0.04782007 0.77285081]\n",
            " [0.60771532 0.56165671 0.54038891]] \n",
            "\n",
            "[[99 51 51 98 80]\n",
            " [65 95 79 59 91]]\n"
          ]
        }
      ],
      "source": [
        "arr=np.random.random(6).reshape(2,3)\n",
        "print(arr,\"\\n\")\n",
        "arr=np.random.choice(range(50,101),size=10).reshape(2,5)\n",
        "print(arr)"
      ]
    },
    {
      "cell_type": "markdown",
      "metadata": {
        "id": "O-rWgFCv_27-"
      },
      "source": [
        "\n",
        "---\n",
        "\n",
        "## 📐 14. Linear Algebra\n",
        "**Question:**\n",
        "1. Find the rank of a matrix\n",
        "2. Compute the inverse of a matrix\n",
        "3. Compute the determinant of a matrix\n",
        "\n",
        "\n",
        "\n",
        "---\n"
      ]
    },
    {
      "cell_type": "code",
      "execution_count": 154,
      "metadata": {
        "id": "rcW7oVrGAGwI"
      },
      "outputs": [
        {
          "name": "stdout",
          "output_type": "stream",
          "text": [
            "2 \n",
            "\n",
            "[[-1.5  0.5]\n",
            " [ 1.   0. ]] \n",
            "\n",
            "-2.0 \n",
            "\n"
          ]
        }
      ],
      "source": [
        "arr=np.array(range(0,4)).reshape(2,2)\n",
        "print(np.linalg.matrix_rank(arr),\"\\n\")\n",
        "print(np.linalg.inv(arr),\"\\n\")\n",
        "print(np.linalg.det(arr),\"\\n\")\n"
      ]
    },
    {
      "cell_type": "markdown",
      "metadata": {
        "id": "lQb606tk_5L5"
      },
      "source": [
        "\n",
        "## ⭐ Bonus Challenge\n",
        "**Question:**\n",
        "Given a 2D array of shape (6, 6), extract all 3x3 submatrices (using slicing) and store them in a list.\n",
        "\n"
      ]
    },
    {
      "cell_type": "code",
      "execution_count": 162,
      "metadata": {
        "id": "dNR9aI5m9Vrr"
      },
      "outputs": [
        {
          "name": "stdout",
          "output_type": "stream",
          "text": [
            "[[ 0  1  2  3  4  5]\n",
            " [ 6  7  8  9 10 11]\n",
            " [12 13 14 15 16 17]\n",
            " [18 19 20 21 22 23]\n",
            " [24 25 26 27 28 29]\n",
            " [30 31 32 33 34 35]] \n",
            "\n",
            "the number of sub matrices is: 16\n"
          ]
        }
      ],
      "source": [
        "arr = np.array(range(0,36)).reshape(6,6)\n",
        "print(arr,\"\\n\")\n",
        "ans =[]\n",
        "for i in range(4):\n",
        "    for j in range(4):\n",
        "        ans.append(arr[i:i+3,j:j+3])\n",
        "print(f\"the number of sub matrices is: {len(ans)}\")\n",
        "# to check if there are no duplicates in the answer\n",
        "seen=[]\n",
        "for item in ans:\n",
        "    if item in seen:\n",
        "        print(False)\n",
        "        break\n"
      ]
    }
  ],
  "metadata": {
    "colab": {
      "provenance": []
    },
    "kernelspec": {
      "display_name": "base",
      "language": "python",
      "name": "python3"
    },
    "language_info": {
      "codemirror_mode": {
        "name": "ipython",
        "version": 3
      },
      "file_extension": ".py",
      "mimetype": "text/x-python",
      "name": "python",
      "nbconvert_exporter": "python",
      "pygments_lexer": "ipython3",
      "version": "3.12.4"
    }
  },
  "nbformat": 4,
  "nbformat_minor": 0
}
